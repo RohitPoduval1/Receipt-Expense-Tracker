{
 "cells": [
  {
   "cell_type": "code",
   "execution_count": 24,
   "id": "07057e42",
   "metadata": {},
   "outputs": [],
   "source": [
    "from PIL import Image\n",
    "import cv2\n",
    "import pytesseract\n",
    "import re\n",
    "import pandas as pd\n",
    "import csv"
   ]
  },
  {
   "cell_type": "code",
   "execution_count": 2,
   "id": "595230b8",
   "metadata": {},
   "outputs": [],
   "source": [
    "from matplotlib import pyplot as plt\n",
    "#https://stackoverflow.com/questions/28816046/\n",
    "#displaying-different-images-with-actual-size-in-matplotlib-subplot\n",
    "\n",
    "# Given the file path to an image, display the image\n",
    "def display(im_path):\n",
    "    dpi = 80\n",
    "    im_data = plt.imread(im_path)\n",
    "\n",
    "    height, width  = im_data.shape[:2]\n",
    "    \n",
    "    # What size does the figure need to be in inches to fit the image?\n",
    "    figsize = width / float(dpi), height / float(dpi)\n",
    "\n",
    "    # Create a figure of the right size with one axes that takes up the full figure\n",
    "    fig = plt.figure(figsize=figsize)\n",
    "    ax = fig.add_axes([0, 0, 1, 1])\n",
    "\n",
    "    # Hide spines, ticks, etc.\n",
    "    ax.axis('off')\n",
    "\n",
    "    # Display the image.\n",
    "    ax.imshow(im_data, cmap='gray')\n",
    "\n",
    "    plt.show()\n",
    "\n",
    "\n",
    "# Convert the given image to grayscale\n",
    "def grayscale(image):\n",
    "    return cv2.cvtColor(image, cv2.COLOR_BGR2GRAY)\n",
    "\n",
    "\n",
    "def noise_removal(image):\n",
    "    import numpy as np\n",
    "    kernel = np.ones((1, 1), np.uint8)\n",
    "    image = cv2.dilate(image, kernel, iterations=1)\n",
    "    kernel = np.ones((1, 1), np.uint8)\n",
    "    image = cv2.erode(image, kernel, iterations=1)\n",
    "    \n",
    "    # Main things that get rid of noise in the background\n",
    "    image = cv2.morphologyEx(image, cv2.MORPH_CLOSE, kernel)\n",
    "    image = cv2.medianBlur(image, 3)\n",
    "    \n",
    "    return (image)"
   ]
  },
  {
   "cell_type": "markdown",
   "id": "f3e8aa58",
   "metadata": {},
   "source": [
    "# OCR Text Processing"
   ]
  },
  {
   "cell_type": "markdown",
   "id": "8d0ab604",
   "metadata": {},
   "source": [
    "## Extract Date\n",
    "(there is only 1 date on the entire receipt hence the indexing [0])"
   ]
  },
  {
   "cell_type": "markdown",
   "id": "eba56ca0",
   "metadata": {},
   "source": [
    "## Extract Serial Number, Item Name, Price"
   ]
  },
  {
   "cell_type": "code",
   "execution_count": 70,
   "id": "1c1c8b36",
   "metadata": {
    "scrolled": true
   },
   "outputs": [],
   "source": [
    "receipt_file_path = \"data/costco.jpg\"\n",
    "receipt = cv2.imread(receipt_file_path)\n",
    "thresh, receipt_bw = cv2.threshold(grayscale(receipt), 127, 255, cv2.THRESH_BINARY)\n",
    "\n",
    "ocr_result = pytesseract.image_to_string(receipt_bw)\n",
    "\n",
    "new_out = ocr_result.replace(\"NF \", \"\").replace(\"NE \", \"\")\n",
    "\n",
    "# regex to match (serial number, item name, price) from each line\n",
    "info_regex = r\"(?P<serial>\\d{4,})\\s?(?P<name>.*[a-zA-Z].*)\\s(?P<price>\\$?\\d+\\.\\d{2})\"\n",
    "matches = re.findall(info_regex, new_out, re.MULTILINE)\n",
    "\n",
    "# Populate lists\n",
    "item_names = []\n",
    "prices = []\n",
    "for match in matches:\n",
    "    # Some receipts do not have a serial number but all have name and price\n",
    "    if len(match) == 2:\n",
    "        name, price = match\n",
    "    if len(match) == 3:\n",
    "        serial, name, price = match\n",
    "    item_names.append(name)\n",
    "    prices.append(price)\n",
    "\n",
    "\n",
    "# Clean up prices from str to float\n",
    "for i, price in enumerate(prices):\n",
    "    prices[i] = float(price.replace(\"$\", \"\"))\n",
    "\n",
    "for i, item in enumerate(item_names):\n",
    "    item_names[i] = item\n",
    "    item_names[i] = \"\".join(c for c in item if c.isalnum() or c == \" \")\n",
    "\n",
    "\n",
    "# Extract date from receipt    \n",
    "date_regex = \"(0[1-9]|1[0-2])\\/(0[1-9]|[12][0-9]|3[01])\\/([0-9]{4})\"\n",
    "month, day, year = re.findall(date_regex, ocr_result)[0] if len(re.findall(date_regex, ocr_result)) > 0 else [\"\", \"\", \"\"]\n",
    "date = f\"{month}/{day}/{year}\" if month != \"\" and day != \"\" and year != \"\" else \"\""
   ]
  },
  {
   "cell_type": "code",
   "execution_count": 71,
   "id": "71b03c4b",
   "metadata": {},
   "outputs": [],
   "source": [
    "data = {\n",
    "    \"date\": date,\n",
    "    \"item_name\": item_names,\n",
    "    \"price\": prices,\n",
    "}\n",
    "\n",
    "df = pd.DataFrame(data)"
   ]
  },
  {
   "cell_type": "code",
   "execution_count": 72,
   "id": "85b0b790",
   "metadata": {},
   "outputs": [],
   "source": [
    "df.to_csv('receipt_data.csv', mode='a', index=False, header=False)"
   ]
  },
  {
   "cell_type": "code",
   "execution_count": null,
   "id": "75b06e37",
   "metadata": {},
   "outputs": [],
   "source": []
  }
 ],
 "metadata": {
  "kernelspec": {
   "display_name": "virtualEnvironment",
   "language": "python",
   "name": "virtualenvironment"
  },
  "language_info": {
   "codemirror_mode": {
    "name": "ipython",
    "version": 3
   },
   "file_extension": ".py",
   "mimetype": "text/x-python",
   "name": "python",
   "nbconvert_exporter": "python",
   "pygments_lexer": "ipython3",
   "version": "3.11.10"
  }
 },
 "nbformat": 4,
 "nbformat_minor": 5
}
